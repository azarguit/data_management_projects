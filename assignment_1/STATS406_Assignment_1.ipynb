{
 "cells": [
  {
   "cell_type": "markdown",
   "metadata": {},
   "source": [
    "# Q1: New customer segmentation analysis\n",
    "\n",
    "You have a customer segmentation available at your company that segments every customer in one of the 6 customer segments (A, B, C, D, E and F). The goal of the analysis is to see how well the new customers you acquired in 2019, of each segment, performed compared to each other. You should analyse the number of new accounts per segment as well as their revenue per segment. You are free to represent this in the way you think that is the most appropriate to share some insights. You have 2 csv files (“STATS406_Assignment_1.1_clients.csv” & “STATS406_Assignment_1.1_transactions.csv”) at your disposal. The first one contains: your new client information (with the first and last name of the employee of your client company that has signed the deal) as well as its unique client id number and its customer segment. The second file contains all transactions of 2019, performed by those new customers, with the client id, the transaction date and transaction amount. You are asked to perform the analysis on the full year of 2019 as a total (i.e. NOT showing a granularity by month or quarter, but just on the full year of 2019). Consequently, you will have to aggregate the data per customer segment for the year 2019."
   ]
  },
  {
   "cell_type": "code",
   "execution_count": 343,
   "metadata": {},
   "outputs": [],
   "source": [
    "#!pip install -U pandasql\n",
    "#!pip install --upgrade pandas\n",
    "#!conda install pandas=0.20.4\n",
    "#pd.show_versions()"
   ]
  },
  {
   "cell_type": "code",
   "execution_count": 344,
   "metadata": {},
   "outputs": [],
   "source": [
    "import pandas as pd\n",
    "import pandasql as psql\n",
    "from pandasql import sqldf\n",
    "import matplotlib.pyplot as plt\n",
    "import seaborn as sns\n",
    "import matplotlib\n",
    "import calendar\n",
    "import matplotlib.patches as mpatches"
   ]
  },
  {
   "cell_type": "code",
   "execution_count": 345,
   "metadata": {},
   "outputs": [],
   "source": [
    "\n",
    "import matplotlib.pylab as pylab\n",
    "params = {'legend.fontsize': 10,\n",
    "         'axes.labelsize': 14,\n",
    "         'axes.titlesize':15,\n",
    "         'xtick.labelsize':11,\n",
    "         'ytick.labelsize':11}\n",
    "pylab.rcParams.update(params)\n",
    "\n",
    "font = {'family' : 'normal',\n",
    "        'weight' : 'bold',\n",
    "        'size'   : 12}"
   ]
  },
  {
   "cell_type": "code",
   "execution_count": null,
   "metadata": {},
   "outputs": [],
   "source": [
    "\n",
    "\n"
   ]
  },
  {
   "cell_type": "code",
   "execution_count": 346,
   "metadata": {},
   "outputs": [],
   "source": [
    "clients_df = pd.read_csv(\"STATS406_Assignment_1.1_clients.csv\")"
   ]
  },
  {
   "cell_type": "code",
   "execution_count": 347,
   "metadata": {},
   "outputs": [
    {
     "data": {
      "text/html": [
       "<div>\n",
       "<style scoped>\n",
       "    .dataframe tbody tr th:only-of-type {\n",
       "        vertical-align: middle;\n",
       "    }\n",
       "\n",
       "    .dataframe tbody tr th {\n",
       "        vertical-align: top;\n",
       "    }\n",
       "\n",
       "    .dataframe thead th {\n",
       "        text-align: right;\n",
       "    }\n",
       "</style>\n",
       "<table border=\"1\" class=\"dataframe\">\n",
       "  <thead>\n",
       "    <tr style=\"text-align: right;\">\n",
       "      <th></th>\n",
       "      <th>ClientId</th>\n",
       "      <th>FirstName</th>\n",
       "      <th>LastName</th>\n",
       "      <th>Customer_segment</th>\n",
       "    </tr>\n",
       "  </thead>\n",
       "  <tbody>\n",
       "    <tr>\n",
       "      <th>0</th>\n",
       "      <td>24770</td>\n",
       "      <td>Vonnie</td>\n",
       "      <td>Zamor</td>\n",
       "      <td>F</td>\n",
       "    </tr>\n",
       "    <tr>\n",
       "      <th>1</th>\n",
       "      <td>48607</td>\n",
       "      <td>Seth</td>\n",
       "      <td>Rhode</td>\n",
       "      <td>A</td>\n",
       "    </tr>\n",
       "    <tr>\n",
       "      <th>2</th>\n",
       "      <td>44822</td>\n",
       "      <td>Rafaela</td>\n",
       "      <td>Kwon</td>\n",
       "      <td>D</td>\n",
       "    </tr>\n",
       "    <tr>\n",
       "      <th>3</th>\n",
       "      <td>16050</td>\n",
       "      <td>Tamala</td>\n",
       "      <td>Youngren</td>\n",
       "      <td>F</td>\n",
       "    </tr>\n",
       "    <tr>\n",
       "      <th>4</th>\n",
       "      <td>9474</td>\n",
       "      <td>Regine</td>\n",
       "      <td>Meade</td>\n",
       "      <td>C</td>\n",
       "    </tr>\n",
       "  </tbody>\n",
       "</table>\n",
       "</div>"
      ],
      "text/plain": [
       "   ClientId FirstName  LastName Customer_segment\n",
       "0     24770    Vonnie     Zamor                F\n",
       "1     48607      Seth     Rhode                A\n",
       "2     44822   Rafaela      Kwon                D\n",
       "3     16050    Tamala  Youngren                F\n",
       "4      9474    Regine     Meade                C"
      ]
     },
     "execution_count": 347,
     "metadata": {},
     "output_type": "execute_result"
    }
   ],
   "source": [
    "clients_df.head()"
   ]
  },
  {
   "cell_type": "code",
   "execution_count": 348,
   "metadata": {},
   "outputs": [
    {
     "data": {
      "text/plain": [
       "(1088, 4)"
      ]
     },
     "execution_count": 348,
     "metadata": {},
     "output_type": "execute_result"
    }
   ],
   "source": [
    "clients_df.shape"
   ]
  },
  {
   "cell_type": "code",
   "execution_count": 349,
   "metadata": {},
   "outputs": [
    {
     "name": "stdout",
     "output_type": "stream",
     "text": [
      "<class 'pandas.core.frame.DataFrame'>\n",
      "RangeIndex: 1088 entries, 0 to 1087\n",
      "Data columns (total 4 columns):\n",
      " #   Column            Non-Null Count  Dtype \n",
      "---  ------            --------------  ----- \n",
      " 0   ClientId          1088 non-null   int64 \n",
      " 1   FirstName         1088 non-null   object\n",
      " 2   LastName          1088 non-null   object\n",
      " 3   Customer_segment  1088 non-null   object\n",
      "dtypes: int64(1), object(3)\n",
      "memory usage: 34.1+ KB\n"
     ]
    }
   ],
   "source": [
    "clients_df.info()"
   ]
  },
  {
   "cell_type": "code",
   "execution_count": 350,
   "metadata": {},
   "outputs": [
    {
     "data": {
      "text/html": [
       "<div>\n",
       "<style scoped>\n",
       "    .dataframe tbody tr th:only-of-type {\n",
       "        vertical-align: middle;\n",
       "    }\n",
       "\n",
       "    .dataframe tbody tr th {\n",
       "        vertical-align: top;\n",
       "    }\n",
       "\n",
       "    .dataframe thead th {\n",
       "        text-align: right;\n",
       "    }\n",
       "</style>\n",
       "<table border=\"1\" class=\"dataframe\">\n",
       "  <thead>\n",
       "    <tr style=\"text-align: right;\">\n",
       "      <th></th>\n",
       "      <th>ClientId</th>\n",
       "    </tr>\n",
       "  </thead>\n",
       "  <tbody>\n",
       "    <tr>\n",
       "      <th>count</th>\n",
       "      <td>1088.000000</td>\n",
       "    </tr>\n",
       "    <tr>\n",
       "      <th>mean</th>\n",
       "      <td>24405.289522</td>\n",
       "    </tr>\n",
       "    <tr>\n",
       "      <th>std</th>\n",
       "      <td>14452.005855</td>\n",
       "    </tr>\n",
       "    <tr>\n",
       "      <th>min</th>\n",
       "      <td>78.000000</td>\n",
       "    </tr>\n",
       "    <tr>\n",
       "      <th>25%</th>\n",
       "      <td>11801.500000</td>\n",
       "    </tr>\n",
       "    <tr>\n",
       "      <th>50%</th>\n",
       "      <td>24401.000000</td>\n",
       "    </tr>\n",
       "    <tr>\n",
       "      <th>75%</th>\n",
       "      <td>36514.250000</td>\n",
       "    </tr>\n",
       "    <tr>\n",
       "      <th>max</th>\n",
       "      <td>49857.000000</td>\n",
       "    </tr>\n",
       "  </tbody>\n",
       "</table>\n",
       "</div>"
      ],
      "text/plain": [
       "           ClientId\n",
       "count   1088.000000\n",
       "mean   24405.289522\n",
       "std    14452.005855\n",
       "min       78.000000\n",
       "25%    11801.500000\n",
       "50%    24401.000000\n",
       "75%    36514.250000\n",
       "max    49857.000000"
      ]
     },
     "execution_count": 350,
     "metadata": {},
     "output_type": "execute_result"
    }
   ],
   "source": [
    "clients_df.describe()"
   ]
  },
  {
   "cell_type": "code",
   "execution_count": 351,
   "metadata": {},
   "outputs": [
    {
     "data": {
      "text/plain": [
       "1088"
      ]
     },
     "execution_count": 351,
     "metadata": {},
     "output_type": "execute_result"
    }
   ],
   "source": [
    "clients_df['ClientId'].nunique()"
   ]
  },
  {
   "cell_type": "code",
   "execution_count": 352,
   "metadata": {},
   "outputs": [
    {
     "data": {
      "text/plain": [
       "False"
      ]
     },
     "execution_count": 352,
     "metadata": {},
     "output_type": "execute_result"
    }
   ],
   "source": [
    "clients_df.isnull().values.any()"
   ]
  },
  {
   "cell_type": "code",
   "execution_count": 353,
   "metadata": {},
   "outputs": [],
   "source": [
    "transactions_df = pd.read_csv(\"STATS406_Assignment_1.1_transactions.csv\")\n",
    "#transactions_df['TransactionDate'] =  pd.to_datetime(transactions_df['TransactionDate'], infer_datetime_format=True)"
   ]
  },
  {
   "cell_type": "code",
   "execution_count": 354,
   "metadata": {},
   "outputs": [
    {
     "data": {
      "text/html": [
       "<div>\n",
       "<style scoped>\n",
       "    .dataframe tbody tr th:only-of-type {\n",
       "        vertical-align: middle;\n",
       "    }\n",
       "\n",
       "    .dataframe tbody tr th {\n",
       "        vertical-align: top;\n",
       "    }\n",
       "\n",
       "    .dataframe thead th {\n",
       "        text-align: right;\n",
       "    }\n",
       "</style>\n",
       "<table border=\"1\" class=\"dataframe\">\n",
       "  <thead>\n",
       "    <tr style=\"text-align: right;\">\n",
       "      <th></th>\n",
       "      <th>ClientId</th>\n",
       "      <th>TransactionDate</th>\n",
       "      <th>TransactionAmount</th>\n",
       "    </tr>\n",
       "  </thead>\n",
       "  <tbody>\n",
       "    <tr>\n",
       "      <th>0</th>\n",
       "      <td>24705</td>\n",
       "      <td>2019-05-03</td>\n",
       "      <td>33348</td>\n",
       "    </tr>\n",
       "    <tr>\n",
       "      <th>1</th>\n",
       "      <td>14693</td>\n",
       "      <td>2019-06-05</td>\n",
       "      <td>34416</td>\n",
       "    </tr>\n",
       "    <tr>\n",
       "      <th>2</th>\n",
       "      <td>37448</td>\n",
       "      <td>2019-11-11</td>\n",
       "      <td>36140</td>\n",
       "    </tr>\n",
       "    <tr>\n",
       "      <th>3</th>\n",
       "      <td>37606</td>\n",
       "      <td>2019-09-10</td>\n",
       "      <td>40985</td>\n",
       "    </tr>\n",
       "    <tr>\n",
       "      <th>4</th>\n",
       "      <td>21218</td>\n",
       "      <td>2019-07-10</td>\n",
       "      <td>37688</td>\n",
       "    </tr>\n",
       "  </tbody>\n",
       "</table>\n",
       "</div>"
      ],
      "text/plain": [
       "   ClientId TransactionDate  TransactionAmount\n",
       "0     24705      2019-05-03              33348\n",
       "1     14693      2019-06-05              34416\n",
       "2     37448      2019-11-11              36140\n",
       "3     37606      2019-09-10              40985\n",
       "4     21218      2019-07-10              37688"
      ]
     },
     "execution_count": 354,
     "metadata": {},
     "output_type": "execute_result"
    }
   ],
   "source": [
    "transactions_df.head()\n",
    "#transactions_df['TransactionDate'][1]"
   ]
  },
  {
   "cell_type": "code",
   "execution_count": 355,
   "metadata": {},
   "outputs": [
    {
     "data": {
      "text/plain": [
       "(2719, 3)"
      ]
     },
     "execution_count": 355,
     "metadata": {},
     "output_type": "execute_result"
    }
   ],
   "source": [
    "transactions_df.shape"
   ]
  },
  {
   "cell_type": "code",
   "execution_count": 356,
   "metadata": {},
   "outputs": [
    {
     "name": "stdout",
     "output_type": "stream",
     "text": [
      "<class 'pandas.core.frame.DataFrame'>\n",
      "RangeIndex: 2719 entries, 0 to 2718\n",
      "Data columns (total 3 columns):\n",
      " #   Column             Non-Null Count  Dtype \n",
      "---  ------             --------------  ----- \n",
      " 0   ClientId           2719 non-null   int64 \n",
      " 1   TransactionDate    2719 non-null   object\n",
      " 2   TransactionAmount  2719 non-null   int64 \n",
      "dtypes: int64(2), object(1)\n",
      "memory usage: 63.9+ KB\n"
     ]
    }
   ],
   "source": [
    "transactions_df.info()"
   ]
  },
  {
   "cell_type": "code",
   "execution_count": 357,
   "metadata": {},
   "outputs": [
    {
     "data": {
      "text/html": [
       "<div>\n",
       "<style scoped>\n",
       "    .dataframe tbody tr th:only-of-type {\n",
       "        vertical-align: middle;\n",
       "    }\n",
       "\n",
       "    .dataframe tbody tr th {\n",
       "        vertical-align: top;\n",
       "    }\n",
       "\n",
       "    .dataframe thead th {\n",
       "        text-align: right;\n",
       "    }\n",
       "</style>\n",
       "<table border=\"1\" class=\"dataframe\">\n",
       "  <thead>\n",
       "    <tr style=\"text-align: right;\">\n",
       "      <th></th>\n",
       "      <th>ClientId</th>\n",
       "      <th>TransactionAmount</th>\n",
       "    </tr>\n",
       "  </thead>\n",
       "  <tbody>\n",
       "    <tr>\n",
       "      <th>count</th>\n",
       "      <td>2719.000000</td>\n",
       "      <td>2719.000000</td>\n",
       "    </tr>\n",
       "    <tr>\n",
       "      <th>mean</th>\n",
       "      <td>25145.732990</td>\n",
       "      <td>6877.623759</td>\n",
       "    </tr>\n",
       "    <tr>\n",
       "      <th>std</th>\n",
       "      <td>14156.630466</td>\n",
       "      <td>12569.612896</td>\n",
       "    </tr>\n",
       "    <tr>\n",
       "      <th>min</th>\n",
       "      <td>78.000000</td>\n",
       "      <td>326.000000</td>\n",
       "    </tr>\n",
       "    <tr>\n",
       "      <th>25%</th>\n",
       "      <td>13030.000000</td>\n",
       "      <td>444.000000</td>\n",
       "    </tr>\n",
       "    <tr>\n",
       "      <th>50%</th>\n",
       "      <td>25267.000000</td>\n",
       "      <td>2721.000000</td>\n",
       "    </tr>\n",
       "    <tr>\n",
       "      <th>75%</th>\n",
       "      <td>37028.000000</td>\n",
       "      <td>7815.500000</td>\n",
       "    </tr>\n",
       "    <tr>\n",
       "      <th>max</th>\n",
       "      <td>49857.000000</td>\n",
       "      <td>104304.000000</td>\n",
       "    </tr>\n",
       "  </tbody>\n",
       "</table>\n",
       "</div>"
      ],
      "text/plain": [
       "           ClientId  TransactionAmount\n",
       "count   2719.000000        2719.000000\n",
       "mean   25145.732990        6877.623759\n",
       "std    14156.630466       12569.612896\n",
       "min       78.000000         326.000000\n",
       "25%    13030.000000         444.000000\n",
       "50%    25267.000000        2721.000000\n",
       "75%    37028.000000        7815.500000\n",
       "max    49857.000000      104304.000000"
      ]
     },
     "execution_count": 357,
     "metadata": {},
     "output_type": "execute_result"
    }
   ],
   "source": [
    "transactions_df.describe()"
   ]
  },
  {
   "cell_type": "code",
   "execution_count": 358,
   "metadata": {},
   "outputs": [
    {
     "data": {
      "text/plain": [
       "False"
      ]
     },
     "execution_count": 358,
     "metadata": {},
     "output_type": "execute_result"
    }
   ],
   "source": [
    "transactions_df.isnull().values.any()"
   ]
  },
  {
   "cell_type": "code",
   "execution_count": 359,
   "metadata": {},
   "outputs": [],
   "source": [
    "clients_transactions_df = pd.merge(clients_df, transactions_df, on='ClientId')"
   ]
  },
  {
   "cell_type": "code",
   "execution_count": 360,
   "metadata": {},
   "outputs": [
    {
     "data": {
      "text/html": [
       "<div>\n",
       "<style scoped>\n",
       "    .dataframe tbody tr th:only-of-type {\n",
       "        vertical-align: middle;\n",
       "    }\n",
       "\n",
       "    .dataframe tbody tr th {\n",
       "        vertical-align: top;\n",
       "    }\n",
       "\n",
       "    .dataframe thead th {\n",
       "        text-align: right;\n",
       "    }\n",
       "</style>\n",
       "<table border=\"1\" class=\"dataframe\">\n",
       "  <thead>\n",
       "    <tr style=\"text-align: right;\">\n",
       "      <th></th>\n",
       "      <th>ClientId</th>\n",
       "      <th>FirstName</th>\n",
       "      <th>LastName</th>\n",
       "      <th>Customer_segment</th>\n",
       "      <th>TransactionDate</th>\n",
       "      <th>TransactionAmount</th>\n",
       "    </tr>\n",
       "  </thead>\n",
       "  <tbody>\n",
       "    <tr>\n",
       "      <th>0</th>\n",
       "      <td>24770</td>\n",
       "      <td>Vonnie</td>\n",
       "      <td>Zamor</td>\n",
       "      <td>F</td>\n",
       "      <td>2019-11-06</td>\n",
       "      <td>1706</td>\n",
       "    </tr>\n",
       "    <tr>\n",
       "      <th>1</th>\n",
       "      <td>24770</td>\n",
       "      <td>Vonnie</td>\n",
       "      <td>Zamor</td>\n",
       "      <td>F</td>\n",
       "      <td>2019-01-18</td>\n",
       "      <td>326</td>\n",
       "    </tr>\n",
       "    <tr>\n",
       "      <th>2</th>\n",
       "      <td>24770</td>\n",
       "      <td>Vonnie</td>\n",
       "      <td>Zamor</td>\n",
       "      <td>F</td>\n",
       "      <td>2019-07-15</td>\n",
       "      <td>326</td>\n",
       "    </tr>\n",
       "    <tr>\n",
       "      <th>3</th>\n",
       "      <td>48607</td>\n",
       "      <td>Seth</td>\n",
       "      <td>Rhode</td>\n",
       "      <td>A</td>\n",
       "      <td>2019-11-04</td>\n",
       "      <td>27801</td>\n",
       "    </tr>\n",
       "    <tr>\n",
       "      <th>4</th>\n",
       "      <td>48607</td>\n",
       "      <td>Seth</td>\n",
       "      <td>Rhode</td>\n",
       "      <td>A</td>\n",
       "      <td>2019-02-13</td>\n",
       "      <td>15942</td>\n",
       "    </tr>\n",
       "  </tbody>\n",
       "</table>\n",
       "</div>"
      ],
      "text/plain": [
       "   ClientId FirstName LastName Customer_segment TransactionDate  \\\n",
       "0     24770    Vonnie    Zamor                F      2019-11-06   \n",
       "1     24770    Vonnie    Zamor                F      2019-01-18   \n",
       "2     24770    Vonnie    Zamor                F      2019-07-15   \n",
       "3     48607      Seth    Rhode                A      2019-11-04   \n",
       "4     48607      Seth    Rhode                A      2019-02-13   \n",
       "\n",
       "   TransactionAmount  \n",
       "0               1706  \n",
       "1                326  \n",
       "2                326  \n",
       "3              27801  \n",
       "4              15942  "
      ]
     },
     "execution_count": 360,
     "metadata": {},
     "output_type": "execute_result"
    }
   ],
   "source": [
    "clients_transactions_df.head()"
   ]
  },
  {
   "cell_type": "code",
   "execution_count": 361,
   "metadata": {},
   "outputs": [
    {
     "data": {
      "text/html": [
       "<div>\n",
       "<style scoped>\n",
       "    .dataframe tbody tr th:only-of-type {\n",
       "        vertical-align: middle;\n",
       "    }\n",
       "\n",
       "    .dataframe tbody tr th {\n",
       "        vertical-align: top;\n",
       "    }\n",
       "\n",
       "    .dataframe thead th {\n",
       "        text-align: right;\n",
       "    }\n",
       "</style>\n",
       "<table border=\"1\" class=\"dataframe\">\n",
       "  <thead>\n",
       "    <tr style=\"text-align: right;\">\n",
       "      <th></th>\n",
       "      <th>ClientId</th>\n",
       "      <th>TransactionAmount</th>\n",
       "    </tr>\n",
       "  </thead>\n",
       "  <tbody>\n",
       "    <tr>\n",
       "      <th>count</th>\n",
       "      <td>2719.000000</td>\n",
       "      <td>2719.000000</td>\n",
       "    </tr>\n",
       "    <tr>\n",
       "      <th>mean</th>\n",
       "      <td>25145.732990</td>\n",
       "      <td>6877.623759</td>\n",
       "    </tr>\n",
       "    <tr>\n",
       "      <th>std</th>\n",
       "      <td>14156.630466</td>\n",
       "      <td>12569.612896</td>\n",
       "    </tr>\n",
       "    <tr>\n",
       "      <th>min</th>\n",
       "      <td>78.000000</td>\n",
       "      <td>326.000000</td>\n",
       "    </tr>\n",
       "    <tr>\n",
       "      <th>25%</th>\n",
       "      <td>13030.000000</td>\n",
       "      <td>444.000000</td>\n",
       "    </tr>\n",
       "    <tr>\n",
       "      <th>50%</th>\n",
       "      <td>25267.000000</td>\n",
       "      <td>2721.000000</td>\n",
       "    </tr>\n",
       "    <tr>\n",
       "      <th>75%</th>\n",
       "      <td>37028.000000</td>\n",
       "      <td>7815.500000</td>\n",
       "    </tr>\n",
       "    <tr>\n",
       "      <th>max</th>\n",
       "      <td>49857.000000</td>\n",
       "      <td>104304.000000</td>\n",
       "    </tr>\n",
       "  </tbody>\n",
       "</table>\n",
       "</div>"
      ],
      "text/plain": [
       "           ClientId  TransactionAmount\n",
       "count   2719.000000        2719.000000\n",
       "mean   25145.732990        6877.623759\n",
       "std    14156.630466       12569.612896\n",
       "min       78.000000         326.000000\n",
       "25%    13030.000000         444.000000\n",
       "50%    25267.000000        2721.000000\n",
       "75%    37028.000000        7815.500000\n",
       "max    49857.000000      104304.000000"
      ]
     },
     "execution_count": 361,
     "metadata": {},
     "output_type": "execute_result"
    }
   ],
   "source": [
    "clients_transactions_df.describe()"
   ]
  },
  {
   "cell_type": "code",
   "execution_count": 362,
   "metadata": {},
   "outputs": [
    {
     "data": {
      "text/plain": [
       "False"
      ]
     },
     "execution_count": 362,
     "metadata": {},
     "output_type": "execute_result"
    }
   ],
   "source": [
    "clients_transactions_df.isnull().values.any()"
   ]
  },
  {
   "cell_type": "code",
   "execution_count": 363,
   "metadata": {},
   "outputs": [
    {
     "name": "stdout",
     "output_type": "stream",
     "text": [
      "<class 'pandas.core.frame.DataFrame'>\n",
      "Int64Index: 2719 entries, 0 to 2718\n",
      "Data columns (total 6 columns):\n",
      " #   Column             Non-Null Count  Dtype \n",
      "---  ------             --------------  ----- \n",
      " 0   ClientId           2719 non-null   int64 \n",
      " 1   FirstName          2719 non-null   object\n",
      " 2   LastName           2719 non-null   object\n",
      " 3   Customer_segment   2719 non-null   object\n",
      " 4   TransactionDate    2719 non-null   object\n",
      " 5   TransactionAmount  2719 non-null   int64 \n",
      "dtypes: int64(2), object(4)\n",
      "memory usage: 148.7+ KB\n"
     ]
    }
   ],
   "source": [
    "clients_transactions_df.info()"
   ]
  },
  {
   "cell_type": "code",
   "execution_count": 364,
   "metadata": {},
   "outputs": [
    {
     "data": {
      "text/plain": [
       "0       24770\n",
       "1       24770\n",
       "2       24770\n",
       "3       48607\n",
       "4       48607\n",
       "        ...  \n",
       "2714    46187\n",
       "2715    46187\n",
       "2716     4030\n",
       "2717    34475\n",
       "2718    34475\n",
       "Name: ClientId, Length: 2719, dtype: int64"
      ]
     },
     "execution_count": 364,
     "metadata": {},
     "output_type": "execute_result"
    }
   ],
   "source": [
    "clients_transactions_df['ClientId']"
   ]
  },
  {
   "cell_type": "code",
   "execution_count": 365,
   "metadata": {},
   "outputs": [
    {
     "data": {
      "text/plain": [
       "(2719, 6)"
      ]
     },
     "execution_count": 365,
     "metadata": {},
     "output_type": "execute_result"
    }
   ],
   "source": [
    "clients_transactions_df.shape"
   ]
  },
  {
   "cell_type": "code",
   "execution_count": 366,
   "metadata": {},
   "outputs": [
    {
     "data": {
      "text/plain": [
       "1088"
      ]
     },
     "execution_count": 366,
     "metadata": {},
     "output_type": "execute_result"
    }
   ],
   "source": [
    "clients_transactions_df['ClientId'].nunique()"
   ]
  },
  {
   "cell_type": "code",
   "execution_count": 367,
   "metadata": {},
   "outputs": [
    {
     "data": {
      "text/html": [
       "<div>\n",
       "<style scoped>\n",
       "    .dataframe tbody tr th:only-of-type {\n",
       "        vertical-align: middle;\n",
       "    }\n",
       "\n",
       "    .dataframe tbody tr th {\n",
       "        vertical-align: top;\n",
       "    }\n",
       "\n",
       "    .dataframe thead tr th {\n",
       "        text-align: left;\n",
       "    }\n",
       "\n",
       "    .dataframe thead tr:last-of-type th {\n",
       "        text-align: right;\n",
       "    }\n",
       "</style>\n",
       "<table border=\"1\" class=\"dataframe\">\n",
       "  <thead>\n",
       "    <tr>\n",
       "      <th></th>\n",
       "      <th colspan=\"8\" halign=\"left\">ClientId</th>\n",
       "      <th colspan=\"8\" halign=\"left\">TransactionAmount</th>\n",
       "    </tr>\n",
       "    <tr>\n",
       "      <th></th>\n",
       "      <th>count</th>\n",
       "      <th>mean</th>\n",
       "      <th>std</th>\n",
       "      <th>min</th>\n",
       "      <th>25%</th>\n",
       "      <th>50%</th>\n",
       "      <th>75%</th>\n",
       "      <th>max</th>\n",
       "      <th>count</th>\n",
       "      <th>mean</th>\n",
       "      <th>std</th>\n",
       "      <th>min</th>\n",
       "      <th>25%</th>\n",
       "      <th>50%</th>\n",
       "      <th>75%</th>\n",
       "      <th>max</th>\n",
       "    </tr>\n",
       "    <tr>\n",
       "      <th>Customer_segment</th>\n",
       "      <th></th>\n",
       "      <th></th>\n",
       "      <th></th>\n",
       "      <th></th>\n",
       "      <th></th>\n",
       "      <th></th>\n",
       "      <th></th>\n",
       "      <th></th>\n",
       "      <th></th>\n",
       "      <th></th>\n",
       "      <th></th>\n",
       "      <th></th>\n",
       "      <th></th>\n",
       "      <th></th>\n",
       "      <th></th>\n",
       "      <th></th>\n",
       "    </tr>\n",
       "  </thead>\n",
       "  <tbody>\n",
       "    <tr>\n",
       "      <th>A</th>\n",
       "      <td>192.0</td>\n",
       "      <td>26416.651042</td>\n",
       "      <td>13222.544146</td>\n",
       "      <td>805.0</td>\n",
       "      <td>15470.0</td>\n",
       "      <td>26011.0</td>\n",
       "      <td>37395.50</td>\n",
       "      <td>48975.0</td>\n",
       "      <td>192.0</td>\n",
       "      <td>24375.015625</td>\n",
       "      <td>10013.657196</td>\n",
       "      <td>1013.0</td>\n",
       "      <td>17378.75</td>\n",
       "      <td>24455.5</td>\n",
       "      <td>30605.0</td>\n",
       "      <td>52401.0</td>\n",
       "    </tr>\n",
       "    <tr>\n",
       "      <th>B</th>\n",
       "      <td>48.0</td>\n",
       "      <td>20839.895833</td>\n",
       "      <td>14377.284187</td>\n",
       "      <td>2034.0</td>\n",
       "      <td>9485.0</td>\n",
       "      <td>14955.5</td>\n",
       "      <td>32398.00</td>\n",
       "      <td>49818.0</td>\n",
       "      <td>48.0</td>\n",
       "      <td>81874.979167</td>\n",
       "      <td>10329.454181</td>\n",
       "      <td>61837.0</td>\n",
       "      <td>72870.25</td>\n",
       "      <td>81522.5</td>\n",
       "      <td>88452.5</td>\n",
       "      <td>104304.0</td>\n",
       "    </tr>\n",
       "    <tr>\n",
       "      <th>C</th>\n",
       "      <td>845.0</td>\n",
       "      <td>24299.951479</td>\n",
       "      <td>14123.076912</td>\n",
       "      <td>99.0</td>\n",
       "      <td>12281.0</td>\n",
       "      <td>24288.0</td>\n",
       "      <td>36701.00</td>\n",
       "      <td>49785.0</td>\n",
       "      <td>845.0</td>\n",
       "      <td>7076.990533</td>\n",
       "      <td>6115.023027</td>\n",
       "      <td>804.0</td>\n",
       "      <td>804.00</td>\n",
       "      <td>6042.0</td>\n",
       "      <td>11242.0</td>\n",
       "      <td>28176.0</td>\n",
       "    </tr>\n",
       "    <tr>\n",
       "      <th>D</th>\n",
       "      <td>1062.0</td>\n",
       "      <td>26075.125235</td>\n",
       "      <td>14330.025942</td>\n",
       "      <td>183.0</td>\n",
       "      <td>13590.0</td>\n",
       "      <td>25862.0</td>\n",
       "      <td>39296.25</td>\n",
       "      <td>49857.0</td>\n",
       "      <td>1062.0</td>\n",
       "      <td>2646.105461</td>\n",
       "      <td>2815.945573</td>\n",
       "      <td>444.0</td>\n",
       "      <td>444.00</td>\n",
       "      <td>1257.5</td>\n",
       "      <td>4430.5</td>\n",
       "      <td>14806.0</td>\n",
       "    </tr>\n",
       "    <tr>\n",
       "      <th>E</th>\n",
       "      <td>60.0</td>\n",
       "      <td>25315.250000</td>\n",
       "      <td>11796.311158</td>\n",
       "      <td>766.0</td>\n",
       "      <td>16040.0</td>\n",
       "      <td>27106.0</td>\n",
       "      <td>35625.00</td>\n",
       "      <td>47010.0</td>\n",
       "      <td>60.0</td>\n",
       "      <td>6166.650000</td>\n",
       "      <td>5902.795884</td>\n",
       "      <td>800.0</td>\n",
       "      <td>800.00</td>\n",
       "      <td>4137.0</td>\n",
       "      <td>9806.5</td>\n",
       "      <td>22068.0</td>\n",
       "    </tr>\n",
       "    <tr>\n",
       "      <th>F</th>\n",
       "      <td>512.0</td>\n",
       "      <td>24521.052734</td>\n",
       "      <td>14283.362062</td>\n",
       "      <td>78.0</td>\n",
       "      <td>11888.0</td>\n",
       "      <td>25446.0</td>\n",
       "      <td>34993.00</td>\n",
       "      <td>49851.0</td>\n",
       "      <td>512.0</td>\n",
       "      <td>1816.478516</td>\n",
       "      <td>2110.700579</td>\n",
       "      <td>326.0</td>\n",
       "      <td>326.00</td>\n",
       "      <td>398.0</td>\n",
       "      <td>2894.0</td>\n",
       "      <td>11427.0</td>\n",
       "    </tr>\n",
       "  </tbody>\n",
       "</table>\n",
       "</div>"
      ],
      "text/plain": [
       "                 ClientId                                               \\\n",
       "                    count          mean           std     min      25%   \n",
       "Customer_segment                                                         \n",
       "A                   192.0  26416.651042  13222.544146   805.0  15470.0   \n",
       "B                    48.0  20839.895833  14377.284187  2034.0   9485.0   \n",
       "C                   845.0  24299.951479  14123.076912    99.0  12281.0   \n",
       "D                  1062.0  26075.125235  14330.025942   183.0  13590.0   \n",
       "E                    60.0  25315.250000  11796.311158   766.0  16040.0   \n",
       "F                   512.0  24521.052734  14283.362062    78.0  11888.0   \n",
       "\n",
       "                                             TransactionAmount                \\\n",
       "                      50%       75%      max             count          mean   \n",
       "Customer_segment                                                               \n",
       "A                 26011.0  37395.50  48975.0             192.0  24375.015625   \n",
       "B                 14955.5  32398.00  49818.0              48.0  81874.979167   \n",
       "C                 24288.0  36701.00  49785.0             845.0   7076.990533   \n",
       "D                 25862.0  39296.25  49857.0            1062.0   2646.105461   \n",
       "E                 27106.0  35625.00  47010.0              60.0   6166.650000   \n",
       "F                 25446.0  34993.00  49851.0             512.0   1816.478516   \n",
       "\n",
       "                                                                               \n",
       "                           std      min       25%      50%      75%       max  \n",
       "Customer_segment                                                               \n",
       "A                 10013.657196   1013.0  17378.75  24455.5  30605.0   52401.0  \n",
       "B                 10329.454181  61837.0  72870.25  81522.5  88452.5  104304.0  \n",
       "C                  6115.023027    804.0    804.00   6042.0  11242.0   28176.0  \n",
       "D                  2815.945573    444.0    444.00   1257.5   4430.5   14806.0  \n",
       "E                  5902.795884    800.0    800.00   4137.0   9806.5   22068.0  \n",
       "F                  2110.700579    326.0    326.00    398.0   2894.0   11427.0  "
      ]
     },
     "execution_count": 367,
     "metadata": {},
     "output_type": "execute_result"
    }
   ],
   "source": [
    "clients_transactions_df.groupby('Customer_segment').describe()"
   ]
  },
  {
   "cell_type": "code",
   "execution_count": 368,
   "metadata": {},
   "outputs": [
    {
     "data": {
      "text/html": [
       "<div>\n",
       "<style scoped>\n",
       "    .dataframe tbody tr th:only-of-type {\n",
       "        vertical-align: middle;\n",
       "    }\n",
       "\n",
       "    .dataframe tbody tr th {\n",
       "        vertical-align: top;\n",
       "    }\n",
       "\n",
       "    .dataframe thead th {\n",
       "        text-align: right;\n",
       "    }\n",
       "</style>\n",
       "<table border=\"1\" class=\"dataframe\">\n",
       "  <thead>\n",
       "    <tr style=\"text-align: right;\">\n",
       "      <th></th>\n",
       "      <th>ClientId</th>\n",
       "      <th>FirstName</th>\n",
       "      <th>LastName</th>\n",
       "      <th>Customer_segment</th>\n",
       "      <th>TransactionDate</th>\n",
       "      <th>TransactionAmount</th>\n",
       "    </tr>\n",
       "  </thead>\n",
       "  <tbody>\n",
       "    <tr>\n",
       "      <th>0</th>\n",
       "      <td>24770</td>\n",
       "      <td>Vonnie</td>\n",
       "      <td>Zamor</td>\n",
       "      <td>F</td>\n",
       "      <td>2019-11-06</td>\n",
       "      <td>1706</td>\n",
       "    </tr>\n",
       "    <tr>\n",
       "      <th>1</th>\n",
       "      <td>24770</td>\n",
       "      <td>Vonnie</td>\n",
       "      <td>Zamor</td>\n",
       "      <td>F</td>\n",
       "      <td>2019-01-18</td>\n",
       "      <td>326</td>\n",
       "    </tr>\n",
       "    <tr>\n",
       "      <th>2</th>\n",
       "      <td>24770</td>\n",
       "      <td>Vonnie</td>\n",
       "      <td>Zamor</td>\n",
       "      <td>F</td>\n",
       "      <td>2019-07-15</td>\n",
       "      <td>326</td>\n",
       "    </tr>\n",
       "    <tr>\n",
       "      <th>3</th>\n",
       "      <td>48607</td>\n",
       "      <td>Seth</td>\n",
       "      <td>Rhode</td>\n",
       "      <td>A</td>\n",
       "      <td>2019-11-04</td>\n",
       "      <td>27801</td>\n",
       "    </tr>\n",
       "    <tr>\n",
       "      <th>4</th>\n",
       "      <td>48607</td>\n",
       "      <td>Seth</td>\n",
       "      <td>Rhode</td>\n",
       "      <td>A</td>\n",
       "      <td>2019-02-13</td>\n",
       "      <td>15942</td>\n",
       "    </tr>\n",
       "  </tbody>\n",
       "</table>\n",
       "</div>"
      ],
      "text/plain": [
       "   ClientId FirstName LastName Customer_segment TransactionDate  \\\n",
       "0     24770    Vonnie    Zamor                F      2019-11-06   \n",
       "1     24770    Vonnie    Zamor                F      2019-01-18   \n",
       "2     24770    Vonnie    Zamor                F      2019-07-15   \n",
       "3     48607      Seth    Rhode                A      2019-11-04   \n",
       "4     48607      Seth    Rhode                A      2019-02-13   \n",
       "\n",
       "   TransactionAmount  \n",
       "0               1706  \n",
       "1                326  \n",
       "2                326  \n",
       "3              27801  \n",
       "4              15942  "
      ]
     },
     "execution_count": 368,
     "metadata": {},
     "output_type": "execute_result"
    }
   ],
   "source": [
    "clients_transactions_df.head()"
   ]
  },
  {
   "cell_type": "code",
   "execution_count": 369,
   "metadata": {},
   "outputs": [
    {
     "data": {
      "text/plain": [
       "Customer_segment\n",
       "A    24375.015625\n",
       "B    81874.979167\n",
       "C     7076.990533\n",
       "D     2646.105461\n",
       "E     6166.650000\n",
       "F     1816.478516\n",
       "Name: TransactionAmount, dtype: float64"
      ]
     },
     "execution_count": 369,
     "metadata": {},
     "output_type": "execute_result"
    }
   ],
   "source": [
    "clients_transactions_df.groupby('Customer_segment').mean()['TransactionAmount']"
   ]
  },
  {
   "cell_type": "code",
   "execution_count": 370,
   "metadata": {},
   "outputs": [
    {
     "data": {
      "text/html": [
       "<div>\n",
       "<style scoped>\n",
       "    .dataframe tbody tr th:only-of-type {\n",
       "        vertical-align: middle;\n",
       "    }\n",
       "\n",
       "    .dataframe tbody tr th {\n",
       "        vertical-align: top;\n",
       "    }\n",
       "\n",
       "    .dataframe thead th {\n",
       "        text-align: right;\n",
       "    }\n",
       "</style>\n",
       "<table border=\"1\" class=\"dataframe\">\n",
       "  <thead>\n",
       "    <tr style=\"text-align: right;\">\n",
       "      <th></th>\n",
       "      <th>ClientId</th>\n",
       "      <th>FirstName</th>\n",
       "      <th>LastName</th>\n",
       "      <th>TransactionDate</th>\n",
       "      <th>TransactionAmount</th>\n",
       "    </tr>\n",
       "    <tr>\n",
       "      <th>Customer_segment</th>\n",
       "      <th></th>\n",
       "      <th></th>\n",
       "      <th></th>\n",
       "      <th></th>\n",
       "      <th></th>\n",
       "    </tr>\n",
       "  </thead>\n",
       "  <tbody>\n",
       "    <tr>\n",
       "      <th>A</th>\n",
       "      <td>192</td>\n",
       "      <td>192</td>\n",
       "      <td>192</td>\n",
       "      <td>192</td>\n",
       "      <td>192</td>\n",
       "    </tr>\n",
       "    <tr>\n",
       "      <th>B</th>\n",
       "      <td>48</td>\n",
       "      <td>48</td>\n",
       "      <td>48</td>\n",
       "      <td>48</td>\n",
       "      <td>48</td>\n",
       "    </tr>\n",
       "    <tr>\n",
       "      <th>C</th>\n",
       "      <td>845</td>\n",
       "      <td>845</td>\n",
       "      <td>845</td>\n",
       "      <td>845</td>\n",
       "      <td>845</td>\n",
       "    </tr>\n",
       "    <tr>\n",
       "      <th>D</th>\n",
       "      <td>1062</td>\n",
       "      <td>1062</td>\n",
       "      <td>1062</td>\n",
       "      <td>1062</td>\n",
       "      <td>1062</td>\n",
       "    </tr>\n",
       "    <tr>\n",
       "      <th>E</th>\n",
       "      <td>60</td>\n",
       "      <td>60</td>\n",
       "      <td>60</td>\n",
       "      <td>60</td>\n",
       "      <td>60</td>\n",
       "    </tr>\n",
       "    <tr>\n",
       "      <th>F</th>\n",
       "      <td>512</td>\n",
       "      <td>512</td>\n",
       "      <td>512</td>\n",
       "      <td>512</td>\n",
       "      <td>512</td>\n",
       "    </tr>\n",
       "  </tbody>\n",
       "</table>\n",
       "</div>"
      ],
      "text/plain": [
       "                  ClientId  FirstName  LastName  TransactionDate  \\\n",
       "Customer_segment                                                   \n",
       "A                      192        192       192              192   \n",
       "B                       48         48        48               48   \n",
       "C                      845        845       845              845   \n",
       "D                     1062       1062      1062             1062   \n",
       "E                       60         60        60               60   \n",
       "F                      512        512       512              512   \n",
       "\n",
       "                  TransactionAmount  \n",
       "Customer_segment                     \n",
       "A                               192  \n",
       "B                                48  \n",
       "C                               845  \n",
       "D                              1062  \n",
       "E                                60  \n",
       "F                               512  "
      ]
     },
     "execution_count": 370,
     "metadata": {},
     "output_type": "execute_result"
    }
   ],
   "source": [
    "clients_transactions_df.groupby('Customer_segment').count()"
   ]
  },
  {
   "cell_type": "code",
   "execution_count": 371,
   "metadata": {},
   "outputs": [
    {
     "data": {
      "text/plain": [
       "TransactionAmount    5980057\n",
       "dtype: int64"
      ]
     },
     "execution_count": 371,
     "metadata": {},
     "output_type": "execute_result"
    }
   ],
   "source": [
    "clients_transactions_df[clients_transactions_df['Customer_segment'] == 'C'][['TransactionAmount']].sum()"
   ]
  },
  {
   "cell_type": "code",
   "execution_count": 372,
   "metadata": {},
   "outputs": [
    {
     "data": {
      "image/png": "[encoded data removed]",
      "text/plain": [
       "<Figure size 720x432 with 1 Axes>"
      ]
     },
     "metadata": {},
     "output_type": "display_data"
    }
   ],
   "source": [
    "plt.figure(figsize=(10,6))\n",
    "clients_transactions_df['Customer_segment'].value_counts(normalize=True).mul(100).plot(kind='bar', color='r')\n",
    "plt.title('Number of Clients per Segment in %')\n",
    "plt.xlabel('Segments')\n",
    "plt.ylabel('%')\n",
    "plt.savefig('graphs/Number_of_clients_per_segment_in_%.pdf')\n",
    "#plt.close()"
   ]
  },
  {
   "cell_type": "code",
   "execution_count": 373,
   "metadata": {},
   "outputs": [
    {
     "data": {
      "image/png": "[encoded data removed]",
      "text/plain": [
       "<Figure size 720x432 with 1 Axes>"
      ]
     },
     "metadata": {},
     "output_type": "display_data"
    }
   ],
   "source": [
    "plt.figure(figsize=(10,6))\n",
    "clients_transactions_df.groupby('Customer_segment').sum()['TransactionAmount'].plot(kind='bar', color='r')\n",
    "plt.title('Total Amount of Transactions per Segment')\n",
    "plt.xlabel('Segments')\n",
    "plt.ylabel('Amount')\n",
    "plt.savefig('graphs/Total_amount_of_transaction_per_segment.pdf')\n",
    "#plt.close()\n",
    "#clients_transactions_df.groupby('Customer_segment').mean()['TransactionAmount']"
   ]
  },
  {
   "cell_type": "code",
   "execution_count": 374,
   "metadata": {},
   "outputs": [
    {
     "data": {
      "image/png": "[encoded data removed]",
      "text/plain": [
       "<Figure size 720x432 with 1 Axes>"
      ]
     },
     "metadata": {},
     "output_type": "display_data"
    }
   ],
   "source": [
    "plt.figure(figsize=(10,6))\n",
    "clients_transactions_df.groupby('Customer_segment').mean()['TransactionAmount'].plot(kind='bar', color='r')\n",
    "plt.title('Averege Amount of Transactions per Segment')\n",
    "plt.xlabel('Segments')\n",
    "plt.ylabel('Amount')\n",
    "plt.savefig('graphs/Average_amount_of_transaction_per_segment.pdf')\n",
    "#plt.close()\n",
    "#clients_transactions_df.groupby('Customer_segment').mean()['TransactionAmount']\n",
    "\n"
   ]
  },
  {
   "cell_type": "markdown",
   "metadata": {},
   "source": [
    "new_df = clients_transactions_df[['TransactionDate', 'TransactionAmount', 'Customer_segment' ]]\n",
    "new_df = new_df[new_df['Customer_segment'] == 'F']\n",
    "fig, (ax1) = plt.subplots(ncols=1, figsize=(8, 6 ))\n",
    "plt.plot(new_df['TransactionDate'],new_df['TransactionAmount'])"
   ]
  },
  {
   "cell_type": "code",
   "execution_count": null,
   "metadata": {},
   "outputs": [],
   "source": []
  },
  {
   "cell_type": "code",
   "execution_count": 375,
   "metadata": {},
   "outputs": [
    {
     "data": {
      "image/png": "[encoded data removed]",
      "text/plain": [
       "<Figure size 720x576 with 1 Axes>"
      ]
     },
     "metadata": {},
     "output_type": "display_data"
    }
   ],
   "source": [
    "plt.figure(figsize=(10,8))\n",
    "clients_transactions_df.groupby('Customer_segment').max().T\n",
    "MIN = clients_transactions_df.groupby('Customer_segment').min()[['TransactionAmount']]\n",
    "legend_min = clients_transactions_df.groupby('Customer_segment').min()[['ClientId']]\n",
    "MIN['TransactionAmount'].plot(kind='bar', color=['r', 'b', 'g', 'c', 'm', 'y', 'k'])\n",
    "r_patch = mpatches.Patch(color='r', label='ClientId: ' + str(legend_min['ClientId'][0]))\n",
    "b_patch = mpatches.Patch(color='b', label='ClientId: ' + str(legend_min['ClientId'][1]))\n",
    "g_patch = mpatches.Patch(color='g', label='ClientId: ' + str(legend_min['ClientId'][2]))\n",
    "c_patch = mpatches.Patch(color='c', label='ClientId: ' + str(legend_min['ClientId'][3]))\n",
    "m_patch = mpatches.Patch(color='m', label='ClientId: ' + str(legend_min['ClientId'][4]))\n",
    "y_patch = mpatches.Patch(color='y', label='ClientId: ' + str(legend_min['ClientId'][5]))\n",
    "plt.legend(handles=[r_patch, b_patch, g_patch, c_patch, m_patch,y_patch])\n",
    "plt.title('Customers with the Minimum Amount of Transactions per Segment')\n",
    "plt.xlabel('Segments')\n",
    "plt.ylabel('Amount')\n",
    "plt.savefig('graphs/Customers_with_the_Minimum_Amount_of_Transactions_per_Segment.pdf')\n",
    "#'b', 'g', 'r', 'c', 'm', 'y', 'k', 'w'\n",
    "\n",
    "#plt.legend(, loc='best')\n",
    "#plt.plot(x=MIN['Customer_segment'], y=MIN['TransactionAmount'], kind='bar')\n",
    "#plt.plot(x=MIN['ClientId'], y=MIN['TransactionAmount'], kind='bar', color='g')"
   ]
  },
  {
   "cell_type": "code",
   "execution_count": 376,
   "metadata": {},
   "outputs": [
    {
     "data": {
      "image/png": "[encoded data removed]",
      "text/plain": [
       "<Figure size 720x432 with 1 Axes>"
      ]
     },
     "metadata": {},
     "output_type": "display_data"
    }
   ],
   "source": [
    "plt.figure(figsize=(10,6))\n",
    "clients_transactions_df.groupby('Customer_segment').max().T\n",
    "MIN = clients_transactions_df.groupby('Customer_segment').max()[['TransactionAmount']]\n",
    "legend_max = clients_transactions_df.groupby('Customer_segment').max()[['ClientId']]\n",
    "MIN['TransactionAmount'].plot(kind='bar', color=['r', 'b', 'g', 'c', 'm', 'y', 'k'])\n",
    "r_patch = mpatches.Patch(color='r', label='ClientId: ' + str(legend_max['ClientId'][0]))\n",
    "b_patch = mpatches.Patch(color='b', label='ClientId: ' + str(legend_max['ClientId'][1]))\n",
    "g_patch = mpatches.Patch(color='g', label='ClientId: ' + str(legend_max['ClientId'][2]))\n",
    "c_patch = mpatches.Patch(color='c', label='ClientId: ' + str(legend_max['ClientId'][3]))\n",
    "m_patch = mpatches.Patch(color='m', label='ClientId: ' + str(legend_max['ClientId'][4]))\n",
    "y_patch = mpatches.Patch(color='y', label='ClientId: ' + str(legend_max['ClientId'][5]))\n",
    "plt.legend(handles=[r_patch, b_patch, g_patch, c_patch, m_patch,y_patch])\n",
    "plt.title('Customers with the Maximum Amount of Transactions per Segment')\n",
    "plt.xlabel('Segments')\n",
    "plt.ylabel('Amount')\n",
    "plt.savefig('graphs/Customers_with_the_Maximum_Amount_of_Transactions_per_Segment.pdf')"
   ]
  },
  {
   "cell_type": "code",
   "execution_count": 377,
   "metadata": {},
   "outputs": [
    {
     "data": {
      "text/html": [
       "<div>\n",
       "<style scoped>\n",
       "    .dataframe tbody tr th:only-of-type {\n",
       "        vertical-align: middle;\n",
       "    }\n",
       "\n",
       "    .dataframe tbody tr th {\n",
       "        vertical-align: top;\n",
       "    }\n",
       "\n",
       "    .dataframe thead th {\n",
       "        text-align: right;\n",
       "    }\n",
       "</style>\n",
       "<table border=\"1\" class=\"dataframe\">\n",
       "  <thead>\n",
       "    <tr style=\"text-align: right;\">\n",
       "      <th></th>\n",
       "      <th>ClientId</th>\n",
       "      <th>FirstName</th>\n",
       "      <th>LastName</th>\n",
       "      <th>Customer_segment</th>\n",
       "      <th>TransactionDate</th>\n",
       "      <th>TransactionAmount</th>\n",
       "    </tr>\n",
       "  </thead>\n",
       "  <tbody>\n",
       "    <tr>\n",
       "      <th>344</th>\n",
       "      <td>17793</td>\n",
       "      <td>Eleni</td>\n",
       "      <td>Archuleta</td>\n",
       "      <td>B</td>\n",
       "      <td>2019-12-03</td>\n",
       "      <td>104304</td>\n",
       "    </tr>\n",
       "  </tbody>\n",
       "</table>\n",
       "</div>"
      ],
      "text/plain": [
       "     ClientId FirstName   LastName Customer_segment TransactionDate  \\\n",
       "344     17793     Eleni  Archuleta                B      2019-12-03   \n",
       "\n",
       "     TransactionAmount  \n",
       "344             104304  "
      ]
     },
     "execution_count": 377,
     "metadata": {},
     "output_type": "execute_result"
    }
   ],
   "source": [
    "clients_transactions_df[clients_transactions_df['TransactionAmount'] == clients_transactions_df['TransactionAmount'].min()]\n",
    "clients_transactions_df[clients_transactions_df['TransactionAmount'] == clients_transactions_df['TransactionAmount'].max()]"
   ]
  },
  {
   "cell_type": "code",
   "execution_count": 378,
   "metadata": {},
   "outputs": [
    {
     "data": {
      "text/html": [
       "<div>\n",
       "<style scoped>\n",
       "    .dataframe tbody tr th:only-of-type {\n",
       "        vertical-align: middle;\n",
       "    }\n",
       "\n",
       "    .dataframe tbody tr th {\n",
       "        vertical-align: top;\n",
       "    }\n",
       "\n",
       "    .dataframe thead th {\n",
       "        text-align: right;\n",
       "    }\n",
       "</style>\n",
       "<table border=\"1\" class=\"dataframe\">\n",
       "  <thead>\n",
       "    <tr style=\"text-align: right;\">\n",
       "      <th></th>\n",
       "      <th>TransactionAmount</th>\n",
       "    </tr>\n",
       "    <tr>\n",
       "      <th>ClientId</th>\n",
       "      <th></th>\n",
       "    </tr>\n",
       "  </thead>\n",
       "  <tbody>\n",
       "    <tr>\n",
       "      <th>78</th>\n",
       "      <td>326</td>\n",
       "    </tr>\n",
       "    <tr>\n",
       "      <th>99</th>\n",
       "      <td>7103</td>\n",
       "    </tr>\n",
       "    <tr>\n",
       "      <th>164</th>\n",
       "      <td>3580</td>\n",
       "    </tr>\n",
       "    <tr>\n",
       "      <th>183</th>\n",
       "      <td>444</td>\n",
       "    </tr>\n",
       "    <tr>\n",
       "      <th>196</th>\n",
       "      <td>1289</td>\n",
       "    </tr>\n",
       "    <tr>\n",
       "      <th>...</th>\n",
       "      <td>...</td>\n",
       "    </tr>\n",
       "    <tr>\n",
       "      <th>49785</th>\n",
       "      <td>20195</td>\n",
       "    </tr>\n",
       "    <tr>\n",
       "      <th>49818</th>\n",
       "      <td>272409</td>\n",
       "    </tr>\n",
       "    <tr>\n",
       "      <th>49836</th>\n",
       "      <td>1332</td>\n",
       "    </tr>\n",
       "    <tr>\n",
       "      <th>49851</th>\n",
       "      <td>326</td>\n",
       "    </tr>\n",
       "    <tr>\n",
       "      <th>49857</th>\n",
       "      <td>3707</td>\n",
       "    </tr>\n",
       "  </tbody>\n",
       "</table>\n",
       "<p>1088 rows × 1 columns</p>\n",
       "</div>"
      ],
      "text/plain": [
       "          TransactionAmount\n",
       "ClientId                   \n",
       "78                      326\n",
       "99                     7103\n",
       "164                    3580\n",
       "183                     444\n",
       "196                    1289\n",
       "...                     ...\n",
       "49785                 20195\n",
       "49818                272409\n",
       "49836                  1332\n",
       "49851                   326\n",
       "49857                  3707\n",
       "\n",
       "[1088 rows x 1 columns]"
      ]
     },
     "execution_count": 378,
     "metadata": {},
     "output_type": "execute_result"
    }
   ],
   "source": [
    "clients_transactions_df.groupby('ClientId').max()['TransactionAmount']\n",
    "clients_transactions_df.groupby('Customer_segment').count()[['TransactionAmount']]\n",
    "clients_transactions_df.groupby('Customer_segment').max()\n",
    "clients_transactions_df.groupby('Customer_segment').sum().groupby('ClientId').max()['TransactionAmount']\n",
    "#clients_transactions_df.groupby('ClientId').sum().groupby('ClientId').max()['TransactionAmount']\n",
    "clients_transactions_df.groupby('ClientId').sum()"
   ]
  },
  {
   "cell_type": "code",
   "execution_count": 379,
   "metadata": {},
   "outputs": [],
   "source": [
    "A_segment = clients_transactions_df[clients_transactions_df['Customer_segment'] == 'A']\n",
    "B_segment = clients_transactions_df[clients_transactions_df['Customer_segment'] == 'B']\n",
    "C_segment = clients_transactions_df[clients_transactions_df['Customer_segment'] == 'C']\n",
    "D_segment = clients_transactions_df[clients_transactions_df['Customer_segment'] == 'D']\n",
    "E_segment = clients_transactions_df[clients_transactions_df['Customer_segment'] == 'E']\n",
    "F_segment = clients_transactions_df[clients_transactions_df['Customer_segment'] == 'F']"
   ]
  },
  {
   "cell_type": "code",
   "execution_count": 380,
   "metadata": {},
   "outputs": [],
   "source": [
    "A = A_segment.groupby('ClientId', as_index=False)[['TransactionAmount']].sum().max()\n",
    "B = B_segment.groupby('ClientId', as_index=False)[['TransactionAmount']].sum().max()\n",
    "C = C_segment.groupby('ClientId', as_index=False)[['TransactionAmount']].sum().max()\n",
    "D = D_segment.groupby('ClientId', as_index=False)[['TransactionAmount']].sum().max()\n",
    "E = E_segment.groupby('ClientId', as_index=False)[['TransactionAmount']].sum().max()\n",
    "F = F_segment.groupby('ClientId', as_index=False)[['TransactionAmount']].sum().max()"
   ]
  },
  {
   "cell_type": "code",
   "execution_count": 381,
   "metadata": {},
   "outputs": [],
   "source": [
    "segments = ['A','B','C','D','E','F']\n",
    "max_tot_trans = [A[1], B[1], C[1], D[1], E[1], F[1]]\n",
    "ClientId = [A[0], B[0], C[0], D[0], E[0], F[0]]"
   ]
  },
  {
   "cell_type": "code",
   "execution_count": 382,
   "metadata": {},
   "outputs": [
    {
     "data": {
      "text/html": [
       "<div>\n",
       "<style scoped>\n",
       "    .dataframe tbody tr th:only-of-type {\n",
       "        vertical-align: middle;\n",
       "    }\n",
       "\n",
       "    .dataframe tbody tr th {\n",
       "        vertical-align: top;\n",
       "    }\n",
       "\n",
       "    .dataframe thead th {\n",
       "        text-align: right;\n",
       "    }\n",
       "</style>\n",
       "<table border=\"1\" class=\"dataframe\">\n",
       "  <thead>\n",
       "    <tr style=\"text-align: right;\">\n",
       "      <th></th>\n",
       "      <th>Customer_segment</th>\n",
       "      <th>max_tot_transactions</th>\n",
       "      <th>ClientId</th>\n",
       "    </tr>\n",
       "  </thead>\n",
       "  <tbody>\n",
       "    <tr>\n",
       "      <th>0</th>\n",
       "      <td>A</td>\n",
       "      <td>152220</td>\n",
       "      <td>48975</td>\n",
       "    </tr>\n",
       "    <tr>\n",
       "      <th>1</th>\n",
       "      <td>B</td>\n",
       "      <td>411593</td>\n",
       "      <td>49818</td>\n",
       "    </tr>\n",
       "    <tr>\n",
       "      <th>2</th>\n",
       "      <td>C</td>\n",
       "      <td>73827</td>\n",
       "      <td>49785</td>\n",
       "    </tr>\n",
       "    <tr>\n",
       "      <th>3</th>\n",
       "      <td>D</td>\n",
       "      <td>30760</td>\n",
       "      <td>49857</td>\n",
       "    </tr>\n",
       "    <tr>\n",
       "      <th>4</th>\n",
       "      <td>E</td>\n",
       "      <td>48982</td>\n",
       "      <td>47010</td>\n",
       "    </tr>\n",
       "    <tr>\n",
       "      <th>5</th>\n",
       "      <td>F</td>\n",
       "      <td>19283</td>\n",
       "      <td>49851</td>\n",
       "    </tr>\n",
       "  </tbody>\n",
       "</table>\n",
       "</div>"
      ],
      "text/plain": [
       "  Customer_segment  max_tot_transactions  ClientId\n",
       "0                A                152220     48975\n",
       "1                B                411593     49818\n",
       "2                C                 73827     49785\n",
       "3                D                 30760     49857\n",
       "4                E                 48982     47010\n",
       "5                F                 19283     49851"
      ]
     },
     "execution_count": 382,
     "metadata": {},
     "output_type": "execute_result"
    }
   ],
   "source": [
    "best_client_per_segment = pd.DataFrame(list(zip(segments, max_tot_trans,ClintTd)), \n",
    "               columns =['Customer_segment', 'max_tot_transactions', 'ClientId']) \n",
    "\n",
    "best_client_per_segment"
   ]
  },
  {
   "cell_type": "code",
   "execution_count": 383,
   "metadata": {},
   "outputs": [
    {
     "data": {
      "image/png": "[encoded data removed]",
      "text/plain": [
       "<Figure size 720x432 with 1 Axes>"
      ]
     },
     "metadata": {},
     "output_type": "display_data"
    }
   ],
   "source": [
    "plt.figure(figsize=(10,6))\n",
    "best_client_per_segment.groupby('Customer_segment').max()['max_tot_transactions'].plot(x= best_client_per_segment['Customer_segment'],kind='bar', color=['r', 'b', 'g', 'c', 'm', 'y', 'k'])\n",
    "r_patch = mpatches.Patch(color='r', label='ClientId: ' + str(best_client_per_segment['ClientId'][0]))\n",
    "b_patch = mpatches.Patch(color='b', label='ClientId: ' + str(best_client_per_segment['ClientId'][1]))\n",
    "g_patch = mpatches.Patch(color='g', label='ClientId: ' + str(best_client_per_segment['ClientId'][2]))\n",
    "c_patch = mpatches.Patch(color='c', label='ClientId: ' + str(best_client_per_segment['ClientId'][3]))\n",
    "m_patch = mpatches.Patch(color='m', label='ClientId: ' + str(best_client_per_segment['ClientId'][4]))\n",
    "y_patch = mpatches.Patch(color='y', label='ClientId: ' + str(best_client_per_segment['ClientId'][5]))\n",
    "plt.legend(handles=[r_patch, b_patch, g_patch, c_patch, m_patch,y_patch])\n",
    "plt.title('Total Transaction Amount by Best Customer per Segment')\n",
    "plt.xlabel('Segments')\n",
    "plt.ylabel('Amount')\n",
    "plt.savefig('graphs/Total_Transaction_Amount_by_Best_Customer_per_Segment.pdf')"
   ]
  },
  {
   "cell_type": "code",
   "execution_count": 384,
   "metadata": {},
   "outputs": [],
   "source": [
    "## import matplotlib.pylab as pylab\n",
    "params = {'legend.fontsize': 10,\n",
    "         'axes.labelsize': 14,\n",
    "         'axes.titlesize':15,\n",
    "         'xtick.labelsize':11,\n",
    "         'ytick.labelsize':11}\n",
    "pylab.rcParams.update(params)"
   ]
  },
  {
   "cell_type": "code",
   "execution_count": null,
   "metadata": {},
   "outputs": [],
   "source": []
  },
  {
   "cell_type": "code",
   "execution_count": null,
   "metadata": {},
   "outputs": [],
   "source": []
  },
  {
   "cell_type": "markdown",
   "metadata": {},
   "source": [
    "# Q2: Sales per region\n",
    "Three years ago (2017), there was a new strategic decision made by your CEO to shift the sales from the US towards Asia. Now that we are in the beginning of 2020 and the complete sales numbers of 2019 were retrieved, along with the forecasts for 2020, it is time to look back over our evolution. We started selling our products in 2012. Back then (2012) we had a sales target of 18K units sold. In 2014, we experienced some production issues, resulting in less units sold. Then came 2017, where we decided to follow the recent market trends and shift our sales from the US to Asia. Building on those historical trends, our sales analytics team has come up with the forecasts for 2020. You have at your disposal one csv file (“STATS406_Assignment_1.2_unit_sales_per_region.csv”) that contains per month and year the unit sales sold (or forecasted to be sold in 2020) per region. You are asked to aggregate them on a yearly basis and analyse our past, current and forecasted units sold. As well as the impact/results of the sales shift. You can do this at a total level (entire world) or per region or both."
   ]
  },
  {
   "cell_type": "code",
   "execution_count": null,
   "metadata": {},
   "outputs": [],
   "source": []
  },
  {
   "cell_type": "code",
   "execution_count": 385,
   "metadata": {},
   "outputs": [],
   "source": [
    "#to_datetime(df_sub['year'].astype(str)  + df_sub['Months'], format='%Y%B')"
   ]
  },
  {
   "cell_type": "code",
   "execution_count": 386,
   "metadata": {},
   "outputs": [],
   "source": [
    "sales_df = pd.read_csv(\"STATS406_Assignment_1.2_unit_sales_per_region.csv\")\n",
    "#sales_df['Month_year'] =  pd.to_datetime(sales_df['Month_year'], infer_datetime_format=True)\n"
   ]
  },
  {
   "cell_type": "code",
   "execution_count": 387,
   "metadata": {},
   "outputs": [
    {
     "data": {
      "text/plain": [
       "Timestamp('2012-01-01 00:00:00')"
      ]
     },
     "execution_count": 387,
     "metadata": {},
     "output_type": "execute_result"
    }
   ],
   "source": [
    "def convert_to_time(month_year):\n",
    "    month_year_list = month_year.split('_')    \n",
    "    month = month_year_list[0]\n",
    "    year = month_year_list[1] \n",
    "    month_year = month + '-' + year    \n",
    "    #month_year = pd.to_datetime(['{}-{}'.format(month, year)])\n",
    "    \n",
    "    month_year = pd.to_datetime(month_year, infer_datetime_format=True )\n",
    "    #month_year = pd.to_datetime(month+ '-' + year ,format='%Y%B' )\n",
    "    return month_year\n",
    "    \n",
    "month_year = sales_df['Month_year'][0]\n",
    "month_year = convert_to_time(month_year)\n",
    "month_year"
   ]
  },
  {
   "cell_type": "code",
   "execution_count": 388,
   "metadata": {},
   "outputs": [],
   "source": [
    "#lambda row : normalize(row['X']\n",
    "sales_df['Month_year'] = sales_df.apply(lambda row : convert_to_time(row['Month_year']), axis = 1)\n",
    "#sales_df['Month_year'] =  pd.to_datetime(sales_df['Month_year'], infer_datetime_format=True)"
   ]
  },
  {
   "cell_type": "code",
   "execution_count": 389,
   "metadata": {},
   "outputs": [
    {
     "data": {
      "text/plain": [
       "Int64Index([2012, 2012, 2012, 2012, 2012, 2012, 2012, 2012, 2012, 2012,\n",
       "            ...\n",
       "            2020, 2020, 2020, 2020, 2020, 2020, 2020, 2020, 2020, 2020],\n",
       "           dtype='int64', name='Month_year', length=108)"
      ]
     },
     "execution_count": 389,
     "metadata": {},
     "output_type": "execute_result"
    }
   ],
   "source": [
    "pd.DatetimeIndex(sales_df['Month_year']).year"
   ]
  },
  {
   "cell_type": "code",
   "execution_count": 390,
   "metadata": {},
   "outputs": [
    {
     "data": {
      "text/html": [
       "<div>\n",
       "<style scoped>\n",
       "    .dataframe tbody tr th:only-of-type {\n",
       "        vertical-align: middle;\n",
       "    }\n",
       "\n",
       "    .dataframe tbody tr th {\n",
       "        vertical-align: top;\n",
       "    }\n",
       "\n",
       "    .dataframe thead th {\n",
       "        text-align: right;\n",
       "    }\n",
       "</style>\n",
       "<table border=\"1\" class=\"dataframe\">\n",
       "  <thead>\n",
       "    <tr style=\"text-align: right;\">\n",
       "      <th></th>\n",
       "      <th>Month_year</th>\n",
       "      <th>US</th>\n",
       "      <th>Europe</th>\n",
       "      <th>Asia</th>\n",
       "      <th>RoW</th>\n",
       "    </tr>\n",
       "  </thead>\n",
       "  <tbody>\n",
       "    <tr>\n",
       "      <th>0</th>\n",
       "      <td>2012-01-01</td>\n",
       "      <td>1097</td>\n",
       "      <td>258</td>\n",
       "      <td>172</td>\n",
       "      <td>52</td>\n",
       "    </tr>\n",
       "    <tr>\n",
       "      <th>1</th>\n",
       "      <td>2012-02-01</td>\n",
       "      <td>1087</td>\n",
       "      <td>403</td>\n",
       "      <td>191</td>\n",
       "      <td>55</td>\n",
       "    </tr>\n",
       "    <tr>\n",
       "      <th>2</th>\n",
       "      <td>2012-03-01</td>\n",
       "      <td>1065</td>\n",
       "      <td>555</td>\n",
       "      <td>228</td>\n",
       "      <td>35</td>\n",
       "    </tr>\n",
       "    <tr>\n",
       "      <th>3</th>\n",
       "      <td>2012-04-01</td>\n",
       "      <td>1047</td>\n",
       "      <td>195</td>\n",
       "      <td>315</td>\n",
       "      <td>32</td>\n",
       "    </tr>\n",
       "    <tr>\n",
       "      <th>4</th>\n",
       "      <td>2012-05-01</td>\n",
       "      <td>991</td>\n",
       "      <td>579</td>\n",
       "      <td>320</td>\n",
       "      <td>18</td>\n",
       "    </tr>\n",
       "    <tr>\n",
       "      <th>5</th>\n",
       "      <td>2012-06-01</td>\n",
       "      <td>1110</td>\n",
       "      <td>335</td>\n",
       "      <td>340</td>\n",
       "      <td>54</td>\n",
       "    </tr>\n",
       "    <tr>\n",
       "      <th>6</th>\n",
       "      <td>2012-07-01</td>\n",
       "      <td>1138</td>\n",
       "      <td>338</td>\n",
       "      <td>293</td>\n",
       "      <td>50</td>\n",
       "    </tr>\n",
       "    <tr>\n",
       "      <th>7</th>\n",
       "      <td>2012-08-01</td>\n",
       "      <td>1267</td>\n",
       "      <td>518</td>\n",
       "      <td>365</td>\n",
       "      <td>51</td>\n",
       "    </tr>\n",
       "    <tr>\n",
       "      <th>8</th>\n",
       "      <td>2012-09-01</td>\n",
       "      <td>1090</td>\n",
       "      <td>432</td>\n",
       "      <td>415</td>\n",
       "      <td>35</td>\n",
       "    </tr>\n",
       "    <tr>\n",
       "      <th>9</th>\n",
       "      <td>2012-10-01</td>\n",
       "      <td>1271</td>\n",
       "      <td>528</td>\n",
       "      <td>311</td>\n",
       "      <td>44</td>\n",
       "    </tr>\n",
       "    <tr>\n",
       "      <th>10</th>\n",
       "      <td>2012-11-01</td>\n",
       "      <td>1225</td>\n",
       "      <td>506</td>\n",
       "      <td>147</td>\n",
       "      <td>18</td>\n",
       "    </tr>\n",
       "    <tr>\n",
       "      <th>11</th>\n",
       "      <td>2012-12-01</td>\n",
       "      <td>1101</td>\n",
       "      <td>362</td>\n",
       "      <td>402</td>\n",
       "      <td>18</td>\n",
       "    </tr>\n",
       "    <tr>\n",
       "      <th>12</th>\n",
       "      <td>2013-01-01</td>\n",
       "      <td>1285</td>\n",
       "      <td>529</td>\n",
       "      <td>357</td>\n",
       "      <td>14</td>\n",
       "    </tr>\n",
       "    <tr>\n",
       "      <th>13</th>\n",
       "      <td>2013-02-01</td>\n",
       "      <td>1265</td>\n",
       "      <td>550</td>\n",
       "      <td>244</td>\n",
       "      <td>14</td>\n",
       "    </tr>\n",
       "    <tr>\n",
       "      <th>14</th>\n",
       "      <td>2013-03-01</td>\n",
       "      <td>1286</td>\n",
       "      <td>640</td>\n",
       "      <td>362</td>\n",
       "      <td>36</td>\n",
       "    </tr>\n",
       "    <tr>\n",
       "      <th>15</th>\n",
       "      <td>2013-04-01</td>\n",
       "      <td>1150</td>\n",
       "      <td>289</td>\n",
       "      <td>300</td>\n",
       "      <td>14</td>\n",
       "    </tr>\n",
       "    <tr>\n",
       "      <th>16</th>\n",
       "      <td>2013-05-01</td>\n",
       "      <td>1105</td>\n",
       "      <td>477</td>\n",
       "      <td>234</td>\n",
       "      <td>65</td>\n",
       "    </tr>\n",
       "    <tr>\n",
       "      <th>17</th>\n",
       "      <td>2013-06-01</td>\n",
       "      <td>1247</td>\n",
       "      <td>520</td>\n",
       "      <td>271</td>\n",
       "      <td>54</td>\n",
       "    </tr>\n",
       "    <tr>\n",
       "      <th>18</th>\n",
       "      <td>2013-07-01</td>\n",
       "      <td>965</td>\n",
       "      <td>570</td>\n",
       "      <td>480</td>\n",
       "      <td>51</td>\n",
       "    </tr>\n",
       "    <tr>\n",
       "      <th>19</th>\n",
       "      <td>2013-08-01</td>\n",
       "      <td>939</td>\n",
       "      <td>426</td>\n",
       "      <td>306</td>\n",
       "      <td>69</td>\n",
       "    </tr>\n",
       "  </tbody>\n",
       "</table>\n",
       "</div>"
      ],
      "text/plain": [
       "   Month_year    US  Europe  Asia  RoW\n",
       "0  2012-01-01  1097     258   172   52\n",
       "1  2012-02-01  1087     403   191   55\n",
       "2  2012-03-01  1065     555   228   35\n",
       "3  2012-04-01  1047     195   315   32\n",
       "4  2012-05-01   991     579   320   18\n",
       "5  2012-06-01  1110     335   340   54\n",
       "6  2012-07-01  1138     338   293   50\n",
       "7  2012-08-01  1267     518   365   51\n",
       "8  2012-09-01  1090     432   415   35\n",
       "9  2012-10-01  1271     528   311   44\n",
       "10 2012-11-01  1225     506   147   18\n",
       "11 2012-12-01  1101     362   402   18\n",
       "12 2013-01-01  1285     529   357   14\n",
       "13 2013-02-01  1265     550   244   14\n",
       "14 2013-03-01  1286     640   362   36\n",
       "15 2013-04-01  1150     289   300   14\n",
       "16 2013-05-01  1105     477   234   65\n",
       "17 2013-06-01  1247     520   271   54\n",
       "18 2013-07-01   965     570   480   51\n",
       "19 2013-08-01   939     426   306   69"
      ]
     },
     "execution_count": 390,
     "metadata": {},
     "output_type": "execute_result"
    }
   ],
   "source": [
    "sales_df.head(20)"
   ]
  },
  {
   "cell_type": "code",
   "execution_count": null,
   "metadata": {},
   "outputs": [],
   "source": []
  },
  {
   "cell_type": "code",
   "execution_count": 391,
   "metadata": {},
   "outputs": [
    {
     "name": "stdout",
     "output_type": "stream",
     "text": [
      "<class 'pandas.core.frame.DataFrame'>\n",
      "RangeIndex: 108 entries, 0 to 107\n",
      "Data columns (total 5 columns):\n",
      " #   Column      Non-Null Count  Dtype         \n",
      "---  ------      --------------  -----         \n",
      " 0   Month_year  108 non-null    datetime64[ns]\n",
      " 1   US          108 non-null    int64         \n",
      " 2   Europe      108 non-null    int64         \n",
      " 3   Asia        108 non-null    int64         \n",
      " 4   RoW         108 non-null    int64         \n",
      "dtypes: datetime64[ns](1), int64(4)\n",
      "memory usage: 4.3 KB\n"
     ]
    }
   ],
   "source": [
    "sales_df.info()"
   ]
  },
  {
   "cell_type": "code",
   "execution_count": 392,
   "metadata": {},
   "outputs": [
    {
     "data": {
      "text/html": [
       "<div>\n",
       "<style scoped>\n",
       "    .dataframe tbody tr th:only-of-type {\n",
       "        vertical-align: middle;\n",
       "    }\n",
       "\n",
       "    .dataframe tbody tr th {\n",
       "        vertical-align: top;\n",
       "    }\n",
       "\n",
       "    .dataframe thead th {\n",
       "        text-align: right;\n",
       "    }\n",
       "</style>\n",
       "<table border=\"1\" class=\"dataframe\">\n",
       "  <thead>\n",
       "    <tr style=\"text-align: right;\">\n",
       "      <th></th>\n",
       "      <th>US</th>\n",
       "      <th>Europe</th>\n",
       "      <th>Asia</th>\n",
       "      <th>RoW</th>\n",
       "    </tr>\n",
       "  </thead>\n",
       "  <tbody>\n",
       "    <tr>\n",
       "      <th>count</th>\n",
       "      <td>108.000000</td>\n",
       "      <td>108.000000</td>\n",
       "      <td>108.000000</td>\n",
       "      <td>108.000000</td>\n",
       "    </tr>\n",
       "    <tr>\n",
       "      <th>mean</th>\n",
       "      <td>1031.407407</td>\n",
       "      <td>536.750000</td>\n",
       "      <td>413.648148</td>\n",
       "      <td>38.712963</td>\n",
       "    </tr>\n",
       "    <tr>\n",
       "      <th>std</th>\n",
       "      <td>182.325427</td>\n",
       "      <td>138.856285</td>\n",
       "      <td>203.921385</td>\n",
       "      <td>14.264557</td>\n",
       "    </tr>\n",
       "    <tr>\n",
       "      <th>min</th>\n",
       "      <td>594.000000</td>\n",
       "      <td>195.000000</td>\n",
       "      <td>50.000000</td>\n",
       "      <td>12.000000</td>\n",
       "    </tr>\n",
       "    <tr>\n",
       "      <th>25%</th>\n",
       "      <td>885.000000</td>\n",
       "      <td>457.000000</td>\n",
       "      <td>264.250000</td>\n",
       "      <td>28.750000</td>\n",
       "    </tr>\n",
       "    <tr>\n",
       "      <th>50%</th>\n",
       "      <td>1046.000000</td>\n",
       "      <td>543.500000</td>\n",
       "      <td>364.500000</td>\n",
       "      <td>36.000000</td>\n",
       "    </tr>\n",
       "    <tr>\n",
       "      <th>75%</th>\n",
       "      <td>1181.750000</td>\n",
       "      <td>646.500000</td>\n",
       "      <td>510.500000</td>\n",
       "      <td>48.250000</td>\n",
       "    </tr>\n",
       "    <tr>\n",
       "      <th>max</th>\n",
       "      <td>1348.000000</td>\n",
       "      <td>872.000000</td>\n",
       "      <td>850.000000</td>\n",
       "      <td>75.000000</td>\n",
       "    </tr>\n",
       "  </tbody>\n",
       "</table>\n",
       "</div>"
      ],
      "text/plain": [
       "                US      Europe        Asia         RoW\n",
       "count   108.000000  108.000000  108.000000  108.000000\n",
       "mean   1031.407407  536.750000  413.648148   38.712963\n",
       "std     182.325427  138.856285  203.921385   14.264557\n",
       "min     594.000000  195.000000   50.000000   12.000000\n",
       "25%     885.000000  457.000000  264.250000   28.750000\n",
       "50%    1046.000000  543.500000  364.500000   36.000000\n",
       "75%    1181.750000  646.500000  510.500000   48.250000\n",
       "max    1348.000000  872.000000  850.000000   75.000000"
      ]
     },
     "execution_count": 392,
     "metadata": {},
     "output_type": "execute_result"
    }
   ],
   "source": [
    "sales_df.describe()"
   ]
  },
  {
   "cell_type": "code",
   "execution_count": 393,
   "metadata": {},
   "outputs": [
    {
     "data": {
      "text/html": [
       "<div>\n",
       "<style scoped>\n",
       "    .dataframe tbody tr th:only-of-type {\n",
       "        vertical-align: middle;\n",
       "    }\n",
       "\n",
       "    .dataframe tbody tr th {\n",
       "        vertical-align: top;\n",
       "    }\n",
       "\n",
       "    .dataframe thead th {\n",
       "        text-align: right;\n",
       "    }\n",
       "</style>\n",
       "<table border=\"1\" class=\"dataframe\">\n",
       "  <thead>\n",
       "    <tr style=\"text-align: right;\">\n",
       "      <th></th>\n",
       "      <th>US</th>\n",
       "      <th>Europe</th>\n",
       "      <th>Asia</th>\n",
       "      <th>RoW</th>\n",
       "    </tr>\n",
       "    <tr>\n",
       "      <th>Month_year</th>\n",
       "      <th></th>\n",
       "      <th></th>\n",
       "      <th></th>\n",
       "      <th></th>\n",
       "    </tr>\n",
       "  </thead>\n",
       "  <tbody>\n",
       "    <tr>\n",
       "      <th>2012</th>\n",
       "      <td>13489</td>\n",
       "      <td>5009</td>\n",
       "      <td>3499</td>\n",
       "      <td>462</td>\n",
       "    </tr>\n",
       "    <tr>\n",
       "      <th>2013</th>\n",
       "      <td>13349</td>\n",
       "      <td>5558</td>\n",
       "      <td>3780</td>\n",
       "      <td>448</td>\n",
       "    </tr>\n",
       "    <tr>\n",
       "      <th>2014</th>\n",
       "      <td>10465</td>\n",
       "      <td>4249</td>\n",
       "      <td>2947</td>\n",
       "      <td>424</td>\n",
       "    </tr>\n",
       "    <tr>\n",
       "      <th>2015</th>\n",
       "      <td>13908</td>\n",
       "      <td>6039</td>\n",
       "      <td>3519</td>\n",
       "      <td>412</td>\n",
       "    </tr>\n",
       "    <tr>\n",
       "      <th>2016</th>\n",
       "      <td>14360</td>\n",
       "      <td>6690</td>\n",
       "      <td>3769</td>\n",
       "      <td>415</td>\n",
       "    </tr>\n",
       "    <tr>\n",
       "      <th>2017</th>\n",
       "      <td>14630</td>\n",
       "      <td>7111</td>\n",
       "      <td>4540</td>\n",
       "      <td>483</td>\n",
       "    </tr>\n",
       "    <tr>\n",
       "      <th>2018</th>\n",
       "      <td>11490</td>\n",
       "      <td>7382</td>\n",
       "      <td>5228</td>\n",
       "      <td>530</td>\n",
       "    </tr>\n",
       "    <tr>\n",
       "      <th>2019</th>\n",
       "      <td>10200</td>\n",
       "      <td>7931</td>\n",
       "      <td>7891</td>\n",
       "      <td>509</td>\n",
       "    </tr>\n",
       "    <tr>\n",
       "      <th>2020</th>\n",
       "      <td>9501</td>\n",
       "      <td>8000</td>\n",
       "      <td>9501</td>\n",
       "      <td>498</td>\n",
       "    </tr>\n",
       "  </tbody>\n",
       "</table>\n",
       "</div>"
      ],
      "text/plain": [
       "               US  Europe  Asia  RoW\n",
       "Month_year                          \n",
       "2012        13489    5009  3499  462\n",
       "2013        13349    5558  3780  448\n",
       "2014        10465    4249  2947  424\n",
       "2015        13908    6039  3519  412\n",
       "2016        14360    6690  3769  415\n",
       "2017        14630    7111  4540  483\n",
       "2018        11490    7382  5228  530\n",
       "2019        10200    7931  7891  509\n",
       "2020         9501    8000  9501  498"
      ]
     },
     "execution_count": 393,
     "metadata": {},
     "output_type": "execute_result"
    }
   ],
   "source": [
    "sales_df.groupby(pd.DatetimeIndex(sales_df['Month_year']).year).sum()\n",
    "#sales_df = sales_df.groupby([(sales_df.index.year)]).sum()"
   ]
  },
  {
   "cell_type": "code",
   "execution_count": 394,
   "metadata": {},
   "outputs": [
    {
     "data": {
      "text/plain": [
       "US        10465\n",
       "Europe     4249\n",
       "Asia       2947\n",
       "RoW         424\n",
       "dtype: int64"
      ]
     },
     "execution_count": 394,
     "metadata": {},
     "output_type": "execute_result"
    }
   ],
   "source": [
    "#sales_df['year'] = df['date'].apply(lambda x: str(x.year) + ' ' + str(x.month))\n",
    "#grouped = df.groupby('year-month')\n",
    "sales_df[(pd.DatetimeIndex(sales_df['Month_year']).year) == 2014].sum()"
   ]
  },
  {
   "cell_type": "code",
   "execution_count": 395,
   "metadata": {},
   "outputs": [
    {
     "data": {
      "text/plain": [
       "<Figure size 1008x576 with 0 Axes>"
      ]
     },
     "metadata": {},
     "output_type": "display_data"
    },
    {
     "data": {
      "image/png": "[encoded data removed]",
      "text/plain": [
       "<Figure size 720x432 with 1 Axes>"
      ]
     },
     "metadata": {},
     "output_type": "display_data"
    }
   ],
   "source": [
    "plt.figure(figsize=(14,8))\n",
    "sales_df.groupby(pd.DatetimeIndex(sales_df['Month_year']).year).sum().plot(kind='bar',legend=False,figsize=(10,6))\n",
    "plt.legend(loc='best')\n",
    "plt.title('Number of Unit Sales per Region')\n",
    "plt.xlabel('Years')\n",
    "plt.ylabel('Units sold')\n",
    "plt.savefig('graphs/Number_of_Unit_Salesper_Region.pdf')"
   ]
  },
  {
   "cell_type": "code",
   "execution_count": null,
   "metadata": {},
   "outputs": [],
   "source": []
  },
  {
   "cell_type": "code",
   "execution_count": 396,
   "metadata": {},
   "outputs": [
    {
     "data": {
      "text/plain": [
       "<Figure size 1008x576 with 0 Axes>"
      ]
     },
     "metadata": {},
     "output_type": "display_data"
    },
    {
     "data": {
      "image/png": "[encoded data removed]",
      "text/plain": [
       "<Figure size 720x432 with 1 Axes>"
      ]
     },
     "metadata": {},
     "output_type": "display_data"
    }
   ],
   "source": [
    "plt.figure(figsize=(14,8))\n",
    "sales_df.groupby(pd.DatetimeIndex(sales_df['Month_year']).year).mean().plot(kind='bar',legend=False,figsize=(10,6))\n",
    "plt.legend(loc='best')\n",
    "plt.title('Average of Unit Sales per Region')\n",
    "plt.xlabel('Years')\n",
    "plt.ylabel('Units sold')\n",
    "plt.savefig('graphs/Average_of_Unit_Sales_per_Region.pdf')"
   ]
  },
  {
   "cell_type": "code",
   "execution_count": 397,
   "metadata": {},
   "outputs": [
    {
     "data": {
      "image/png": "[encoded data removed]",
      "text/plain": [
       "<Figure size 576x432 with 1 Axes>"
      ]
     },
     "metadata": {},
     "output_type": "display_data"
    }
   ],
   "source": [
    "tt = sales_df.groupby(pd.DatetimeIndex(sales_df['Month_year']).year).sum()\n",
    "tt.sum(axis=1).plot(kind='bar',color='r',legend=False,figsize=(8,6))\n",
    "plt.title('Total Unit Sales for all Regions')\n",
    "plt.xlabel('Years')\n",
    "plt.ylabel('Units sold')\n",
    "plt.savefig('graphs/Total_Unit_Sales_for_all_Regions.pdf')"
   ]
  },
  {
   "cell_type": "code",
   "execution_count": 398,
   "metadata": {},
   "outputs": [
    {
     "data": {
      "text/html": [
       "<div>\n",
       "<style scoped>\n",
       "    .dataframe tbody tr th:only-of-type {\n",
       "        vertical-align: middle;\n",
       "    }\n",
       "\n",
       "    .dataframe tbody tr th {\n",
       "        vertical-align: top;\n",
       "    }\n",
       "\n",
       "    .dataframe thead th {\n",
       "        text-align: right;\n",
       "    }\n",
       "</style>\n",
       "<table border=\"1\" class=\"dataframe\">\n",
       "  <thead>\n",
       "    <tr style=\"text-align: right;\">\n",
       "      <th></th>\n",
       "      <th>Month_year</th>\n",
       "      <th>US</th>\n",
       "      <th>Europe</th>\n",
       "      <th>Asia</th>\n",
       "      <th>RoW</th>\n",
       "    </tr>\n",
       "  </thead>\n",
       "  <tbody>\n",
       "    <tr>\n",
       "      <th>96</th>\n",
       "      <td>2020-01-01</td>\n",
       "      <td>713</td>\n",
       "      <td>538</td>\n",
       "      <td>714</td>\n",
       "      <td>28</td>\n",
       "    </tr>\n",
       "    <tr>\n",
       "      <th>97</th>\n",
       "      <td>2020-02-01</td>\n",
       "      <td>594</td>\n",
       "      <td>666</td>\n",
       "      <td>801</td>\n",
       "      <td>28</td>\n",
       "    </tr>\n",
       "    <tr>\n",
       "      <th>98</th>\n",
       "      <td>2020-03-01</td>\n",
       "      <td>821</td>\n",
       "      <td>578</td>\n",
       "      <td>848</td>\n",
       "      <td>36</td>\n",
       "    </tr>\n",
       "    <tr>\n",
       "      <th>99</th>\n",
       "      <td>2020-04-01</td>\n",
       "      <td>917</td>\n",
       "      <td>645</td>\n",
       "      <td>720</td>\n",
       "      <td>43</td>\n",
       "    </tr>\n",
       "    <tr>\n",
       "      <th>100</th>\n",
       "      <td>2020-05-01</td>\n",
       "      <td>627</td>\n",
       "      <td>715</td>\n",
       "      <td>739</td>\n",
       "      <td>68</td>\n",
       "    </tr>\n",
       "    <tr>\n",
       "      <th>101</th>\n",
       "      <td>2020-06-01</td>\n",
       "      <td>719</td>\n",
       "      <td>721</td>\n",
       "      <td>709</td>\n",
       "      <td>28</td>\n",
       "    </tr>\n",
       "    <tr>\n",
       "      <th>102</th>\n",
       "      <td>2020-07-01</td>\n",
       "      <td>777</td>\n",
       "      <td>683</td>\n",
       "      <td>850</td>\n",
       "      <td>28</td>\n",
       "    </tr>\n",
       "    <tr>\n",
       "      <th>103</th>\n",
       "      <td>2020-08-01</td>\n",
       "      <td>817</td>\n",
       "      <td>872</td>\n",
       "      <td>817</td>\n",
       "      <td>36</td>\n",
       "    </tr>\n",
       "    <tr>\n",
       "      <th>104</th>\n",
       "      <td>2020-09-01</td>\n",
       "      <td>916</td>\n",
       "      <td>785</td>\n",
       "      <td>848</td>\n",
       "      <td>59</td>\n",
       "    </tr>\n",
       "    <tr>\n",
       "      <th>105</th>\n",
       "      <td>2020-10-01</td>\n",
       "      <td>779</td>\n",
       "      <td>560</td>\n",
       "      <td>818</td>\n",
       "      <td>35</td>\n",
       "    </tr>\n",
       "    <tr>\n",
       "      <th>106</th>\n",
       "      <td>2020-11-01</td>\n",
       "      <td>945</td>\n",
       "      <td>612</td>\n",
       "      <td>804</td>\n",
       "      <td>34</td>\n",
       "    </tr>\n",
       "    <tr>\n",
       "      <th>107</th>\n",
       "      <td>2020-12-01</td>\n",
       "      <td>876</td>\n",
       "      <td>625</td>\n",
       "      <td>833</td>\n",
       "      <td>75</td>\n",
       "    </tr>\n",
       "  </tbody>\n",
       "</table>\n",
       "</div>"
      ],
      "text/plain": [
       "    Month_year   US  Europe  Asia  RoW\n",
       "96  2020-01-01  713     538   714   28\n",
       "97  2020-02-01  594     666   801   28\n",
       "98  2020-03-01  821     578   848   36\n",
       "99  2020-04-01  917     645   720   43\n",
       "100 2020-05-01  627     715   739   68\n",
       "101 2020-06-01  719     721   709   28\n",
       "102 2020-07-01  777     683   850   28\n",
       "103 2020-08-01  817     872   817   36\n",
       "104 2020-09-01  916     785   848   59\n",
       "105 2020-10-01  779     560   818   35\n",
       "106 2020-11-01  945     612   804   34\n",
       "107 2020-12-01  876     625   833   75"
      ]
     },
     "execution_count": 398,
     "metadata": {},
     "output_type": "execute_result"
    }
   ],
   "source": [
    "year_2020"
   ]
  },
  {
   "cell_type": "code",
   "execution_count": 399,
   "metadata": {},
   "outputs": [],
   "source": [
    "year_2020 = sales_df[(pd.DatetimeIndex(sales_df['Month_year']).year) == 2020]\n",
    "year_2019 = sales_df[(pd.DatetimeIndex(sales_df['Month_year']).year) == 2019]"
   ]
  },
  {
   "cell_type": "code",
   "execution_count": 400,
   "metadata": {},
   "outputs": [
    {
     "data": {
      "image/png": "[encoded data removed]",
      "text/plain": [
       "<Figure size 720x432 with 1 Axes>"
      ]
     },
     "metadata": {},
     "output_type": "display_data"
    }
   ],
   "source": [
    "year_2020.groupby(pd.DatetimeIndex(year_2020['Month_year']).month).sum().plot(kind='bar',figsize=(10,6))\n",
    "plt.title('Unit Sales by Region and Month Forecasted to be Sold in 2020')\n",
    "plt.xlabel('Months')\n",
    "plt.ylabel('Units sold')\n",
    "plt.savefig('graphs/Unit_Sales_by_Region_and_Month_Forecasted_to_be_Sold_in_2020.pdf')"
   ]
  },
  {
   "cell_type": "code",
   "execution_count": 401,
   "metadata": {},
   "outputs": [
    {
     "data": {
      "image/png": "[encoded data removed]",
      "text/plain": [
       "<Figure size 720x432 with 1 Axes>"
      ]
     },
     "metadata": {},
     "output_type": "display_data"
    }
   ],
   "source": [
    "year_2019.groupby(pd.DatetimeIndex(year_2019['Month_year']).month).sum().plot(kind='bar',figsize=(10,6))\n",
    "plt.title('Unit Sales by Region and Month in 2019')\n",
    "plt.xlabel('Months')\n",
    "plt.ylabel('Units sold')\n",
    "plt.savefig('graphs/Unit_Sales_by_Region_and_Month_in_2019.pdf')"
   ]
  },
  {
   "cell_type": "code",
   "execution_count": 402,
   "metadata": {},
   "outputs": [
    {
     "data": {
      "image/png": "[encoded data removed]",
      "text/plain": [
       "<Figure size 720x432 with 1 Axes>"
      ]
     },
     "metadata": {},
     "output_type": "display_data"
    }
   ],
   "source": [
    "year_2020.groupby(pd.DatetimeIndex(year_2020['Month_year']).month).sum().sum(axis = 1).plot(kind='bar',figsize=(10,6))\n",
    "plt.title('Total Unit Sales for all Regions per Month Forecasted to be Sold in 2020')\n",
    "plt.xlabel('Months')\n",
    "plt.ylabel('Units sold')\n",
    "plt.savefig('graphs/Total_Unit_sales_for_all_regions_per_month_forecasted_to_be_sold_in_2020.pdf')"
   ]
  },
  {
   "cell_type": "code",
   "execution_count": 403,
   "metadata": {
    "scrolled": true
   },
   "outputs": [
    {
     "data": {
      "image/png": "[encoded data removed]",
      "text/plain": [
       "<Figure size 720x432 with 1 Axes>"
      ]
     },
     "metadata": {},
     "output_type": "display_data"
    }
   ],
   "source": [
    "year_2019.groupby(pd.DatetimeIndex(year_2020['Month_year']).month).sum().sum(axis = 1).plot(kind='bar',figsize=(10,6))\n",
    "plt.title('Total Unit Sales for all Regions per Month in 2019')\n",
    "plt.xlabel('Months')\n",
    "plt.ylabel('Units sold')\n",
    "plt.savefig('graphs/Total_Unit_Sales_for_all_Regions_per_Month_in_2019.pdf')"
   ]
  },
  {
   "cell_type": "code",
   "execution_count": null,
   "metadata": {},
   "outputs": [],
   "source": []
  },
  {
   "cell_type": "code",
   "execution_count": null,
   "metadata": {},
   "outputs": [],
   "source": []
  },
  {
   "cell_type": "code",
   "execution_count": null,
   "metadata": {},
   "outputs": [],
   "source": []
  },
  {
   "cell_type": "code",
   "execution_count": null,
   "metadata": {},
   "outputs": [],
   "source": []
  },
  {
   "cell_type": "code",
   "execution_count": null,
   "metadata": {},
   "outputs": [],
   "source": []
  },
  {
   "cell_type": "code",
   "execution_count": null,
   "metadata": {},
   "outputs": [],
   "source": []
  },
  {
   "cell_type": "code",
   "execution_count": null,
   "metadata": {},
   "outputs": [],
   "source": []
  },
  {
   "cell_type": "code",
   "execution_count": null,
   "metadata": {},
   "outputs": [],
   "source": []
  }
 ],
 "metadata": {
  "kernelspec": {
   "display_name": "Python [default]",
   "language": "python",
   "name": "python3"
  },
  "language_info": {
   "codemirror_mode": {
    "name": "ipython",
    "version": 3
   },
   "file_extension": ".py",
   "mimetype": "text/x-python",
   "name": "python",
   "nbconvert_exporter": "python",
   "pygments_lexer": "ipython3",
   "version": "3.6.5"
  }
 },
 "nbformat": 4,
 "nbformat_minor": 2
}
